{
 "cells": [
  {
   "cell_type": "markdown",
   "metadata": {},
   "source": [
    "# Dataset: Fake Amazon Reviews"
   ]
  },
  {
   "cell_type": "markdown",
   "metadata": {},
   "source": [
    "The dataset for this model was found on OSF, an open source repository for research data. The link to the csv file used can be found [here](https://osf.io/tyue9/#!). This dataset is the perfect way to train on model on identifying if a review is genuine or fake as there is an abundant amount of data that is labelled for the target feature."
   ]
  },
  {
   "cell_type": "markdown",
   "metadata": {},
   "source": [
    "There are only five attributes found within the dataset:\n",
    "- Category of product the review is found in (Electronics, Home and Kitchen, etc)\n",
    "- The rating left by the reviewer on a scale of 1-5\n",
    "- The classification of the review being Bot-generated (CG) or human-generated (OR)\n",
    "- The actual text of the review\n",
    "\n",
    "More attributes will be added to aid the training of the model such as:\n",
    "\n",
    "- TF-IDF \n",
    "- sentiment\n",
    "    - This might seem not completely necessary since the ratings should indicate the reviewers sentiment, however fake reviews can often have conflicting sentiment and rating which could aid the classification\n",
    "\n"
   ]
  },
  {
   "cell_type": "markdown",
   "metadata": {},
   "source": [
    "# Business Case"
   ]
  },
  {
   "cell_type": "markdown",
   "metadata": {},
   "source": [
    "As online shopping continues to become the predominant way people purchase products, the importance of transparency cannot be understated. A 2020 study found that approximately 42% of Amazon reviews were fake. Efforts are being made to reduce this number but inevitably many will slip through the cracks. Misleading reviews can harm not only the consumer, but the companies selling through online retail. A fake review may be considered when a customer is researching a product, which may lead them to be disappointed when the actual product is not of the quality they expected. Fake reviews can also hurt businesses if harmful reviews are made by competing companies. \n",
    "\n",
    "\n",
    "source: [business insider](https://www.businessinsider.com/guides/tech/amazon-fake-reviews)"
   ]
  },
  {
   "cell_type": "markdown",
   "metadata": {},
   "source": [
    "# Using NLP to differentiate bot-generated reviews from human-generated reviews\n",
    "\n",
    "## Import necessary libraries"
   ]
  },
  {
   "cell_type": "code",
   "execution_count": 1,
   "metadata": {
    "ExecuteTime": {
     "end_time": "2023-02-03T03:15:49.861583Z",
     "start_time": "2023-02-03T03:15:47.435949Z"
    }
   },
   "outputs": [],
   "source": [
    "import pandas as pd\n",
    "import nltk\n",
    "import sklearn\n",
    "import seaborn as sns\n",
    "import matplotlib.pyplot as plt\n",
    "from sklearn.feature_extraction.text import TfidfVectorizer\n",
    "from sklearn.model_selection import train_test_split\n",
    "from nltk.stem import WordNetLemmatizer\n",
    "from nltk.tokenize import word_tokenize\n",
    "from nltk.sentiment import SentimentIntensityAnalyzer\n",
    "from scipy.sparse import hstack\n",
    "from sklearn.preprocessing import LabelEncoder\n",
    "from sklearn.linear_model import LogisticRegression   \n",
    "\n",
    "#nltk library download\n",
    "nltk.download('vader_lexicon', 'punkt', 'stopwords', 'wordnet')\n",
    "#nltk.download('punkt')\n",
    "#nltk.download('stopwords')\n",
    "#nltk.download('wordnet')\n",
    "from nltk.corpus import stopwords\n",
    "stop_words = set(stopwords.words('english'))"
   ]
  },
  {
   "cell_type": "markdown",
   "metadata": {},
   "source": [
    "## Importing csv file with amazon reviews"
   ]
  },
  {
   "cell_type": "code",
   "execution_count": 2,
   "metadata": {
    "ExecuteTime": {
     "end_time": "2023-02-03T03:15:50.015294Z",
     "start_time": "2023-02-03T03:15:49.863583Z"
    }
   },
   "outputs": [
    {
     "name": "stdout",
     "output_type": "stream",
     "text": [
      "(40432, 4)\n"
     ]
    },
    {
     "data": {
      "text/html": [
       "<div>\n",
       "<style scoped>\n",
       "    .dataframe tbody tr th:only-of-type {\n",
       "        vertical-align: middle;\n",
       "    }\n",
       "\n",
       "    .dataframe tbody tr th {\n",
       "        vertical-align: top;\n",
       "    }\n",
       "\n",
       "    .dataframe thead th {\n",
       "        text-align: right;\n",
       "    }\n",
       "</style>\n",
       "<table border=\"1\" class=\"dataframe\">\n",
       "  <thead>\n",
       "    <tr style=\"text-align: right;\">\n",
       "      <th></th>\n",
       "      <th>category</th>\n",
       "      <th>rating</th>\n",
       "      <th>label</th>\n",
       "      <th>text_</th>\n",
       "    </tr>\n",
       "  </thead>\n",
       "  <tbody>\n",
       "    <tr>\n",
       "      <th>0</th>\n",
       "      <td>Home_and_Kitchen_5</td>\n",
       "      <td>5</td>\n",
       "      <td>CG</td>\n",
       "      <td>Love this!  Well made, sturdy, and very comfor...</td>\n",
       "    </tr>\n",
       "    <tr>\n",
       "      <th>1</th>\n",
       "      <td>Home_and_Kitchen_5</td>\n",
       "      <td>5</td>\n",
       "      <td>CG</td>\n",
       "      <td>love it, a great upgrade from the original.  I...</td>\n",
       "    </tr>\n",
       "    <tr>\n",
       "      <th>2</th>\n",
       "      <td>Home_and_Kitchen_5</td>\n",
       "      <td>5</td>\n",
       "      <td>CG</td>\n",
       "      <td>This pillow saved my back. I love the look and...</td>\n",
       "    </tr>\n",
       "    <tr>\n",
       "      <th>3</th>\n",
       "      <td>Home_and_Kitchen_5</td>\n",
       "      <td>1</td>\n",
       "      <td>CG</td>\n",
       "      <td>Missing information on how to use it, but it i...</td>\n",
       "    </tr>\n",
       "    <tr>\n",
       "      <th>4</th>\n",
       "      <td>Home_and_Kitchen_5</td>\n",
       "      <td>5</td>\n",
       "      <td>CG</td>\n",
       "      <td>Very nice set. Good quality. We have had the s...</td>\n",
       "    </tr>\n",
       "  </tbody>\n",
       "</table>\n",
       "</div>"
      ],
      "text/plain": [
       "             category  rating label  \\\n",
       "0  Home_and_Kitchen_5       5    CG   \n",
       "1  Home_and_Kitchen_5       5    CG   \n",
       "2  Home_and_Kitchen_5       5    CG   \n",
       "3  Home_and_Kitchen_5       1    CG   \n",
       "4  Home_and_Kitchen_5       5    CG   \n",
       "\n",
       "                                               text_  \n",
       "0  Love this!  Well made, sturdy, and very comfor...  \n",
       "1  love it, a great upgrade from the original.  I...  \n",
       "2  This pillow saved my back. I love the look and...  \n",
       "3  Missing information on how to use it, but it i...  \n",
       "4  Very nice set. Good quality. We have had the s...  "
      ]
     },
     "execution_count": 2,
     "metadata": {},
     "output_type": "execute_result"
    }
   ],
   "source": [
    "#dataset contains about 40,000 reviews; 20,000 fake and 20,000 real\n",
    "df = pd.read_csv('amazon_reviews.csv')\n",
    "\n",
    "print(df.shape)\n",
    "df.head()"
   ]
  },
  {
   "cell_type": "code",
   "execution_count": 3,
   "metadata": {
    "ExecuteTime": {
     "end_time": "2023-02-03T03:15:50.030752Z",
     "start_time": "2023-02-03T03:15:50.019292Z"
    },
    "scrolled": true
   },
   "outputs": [
    {
     "data": {
      "text/html": [
       "<div>\n",
       "<style scoped>\n",
       "    .dataframe tbody tr th:only-of-type {\n",
       "        vertical-align: middle;\n",
       "    }\n",
       "\n",
       "    .dataframe tbody tr th {\n",
       "        vertical-align: top;\n",
       "    }\n",
       "\n",
       "    .dataframe thead th {\n",
       "        text-align: right;\n",
       "    }\n",
       "</style>\n",
       "<table border=\"1\" class=\"dataframe\">\n",
       "  <thead>\n",
       "    <tr style=\"text-align: right;\">\n",
       "      <th></th>\n",
       "      <th>rating</th>\n",
       "    </tr>\n",
       "  </thead>\n",
       "  <tbody>\n",
       "    <tr>\n",
       "      <th>count</th>\n",
       "      <td>40432.000000</td>\n",
       "    </tr>\n",
       "    <tr>\n",
       "      <th>mean</th>\n",
       "      <td>4.256579</td>\n",
       "    </tr>\n",
       "    <tr>\n",
       "      <th>std</th>\n",
       "      <td>1.144354</td>\n",
       "    </tr>\n",
       "    <tr>\n",
       "      <th>min</th>\n",
       "      <td>1.000000</td>\n",
       "    </tr>\n",
       "    <tr>\n",
       "      <th>25%</th>\n",
       "      <td>4.000000</td>\n",
       "    </tr>\n",
       "    <tr>\n",
       "      <th>50%</th>\n",
       "      <td>5.000000</td>\n",
       "    </tr>\n",
       "    <tr>\n",
       "      <th>75%</th>\n",
       "      <td>5.000000</td>\n",
       "    </tr>\n",
       "    <tr>\n",
       "      <th>max</th>\n",
       "      <td>5.000000</td>\n",
       "    </tr>\n",
       "  </tbody>\n",
       "</table>\n",
       "</div>"
      ],
      "text/plain": [
       "             rating\n",
       "count  40432.000000\n",
       "mean       4.256579\n",
       "std        1.144354\n",
       "min        1.000000\n",
       "25%        4.000000\n",
       "50%        5.000000\n",
       "75%        5.000000\n",
       "max        5.000000"
      ]
     },
     "execution_count": 3,
     "metadata": {},
     "output_type": "execute_result"
    }
   ],
   "source": [
    "df.describe()"
   ]
  },
  {
   "cell_type": "markdown",
   "metadata": {},
   "source": [
    "Not very useful information given most of the data is text based. Attributes will need to be added but first, the data will need cleaning to fix: casing, punctuation, stop word removal, and removal of low quality or duplicate data (if any)"
   ]
  },
  {
   "cell_type": "markdown",
   "metadata": {},
   "source": [
    "## EDA "
   ]
  },
  {
   "cell_type": "markdown",
   "metadata": {},
   "source": [
    "Before getting into the data cleaning and modeling. Let's get an idea of the data we're working with"
   ]
  },
  {
   "cell_type": "code",
   "execution_count": 4,
   "metadata": {
    "ExecuteTime": {
     "end_time": "2023-02-03T03:15:50.172216Z",
     "start_time": "2023-02-03T03:15:50.031869Z"
    }
   },
   "outputs": [
    {
     "name": "stderr",
     "output_type": "stream",
     "text": [
      "C:\\Users\\nkirbabas\\Anaconda3\\envs\\learn-env\\lib\\site-packages\\seaborn\\_decorators.py:36: FutureWarning: Pass the following variable as a keyword arg: x. From version 0.12, the only valid positional argument will be `data`, and passing other arguments without an explicit keyword will result in an error or misinterpretation.\n",
      "  warnings.warn(\n"
     ]
    },
    {
     "data": {
      "text/plain": [
       "<AxesSubplot:xlabel='label', ylabel='count'>"
      ]
     },
     "execution_count": 4,
     "metadata": {},
     "output_type": "execute_result"
    },
    {
     "data": {
      "image/png": "[encoded data removed]",
      "text/plain": [
       "<Figure size 432x288 with 1 Axes>"
      ]
     },
     "metadata": {
      "needs_background": "light"
     },
     "output_type": "display_data"
    }
   ],
   "source": [
    "sns.countplot(df.label)"
   ]
  },
  {
   "cell_type": "markdown",
   "metadata": {},
   "source": [
    "There seems to be a clean split between genuine and fake reviews which should make it is to prevent bias in the model"
   ]
  },
  {
   "cell_type": "code",
   "execution_count": 5,
   "metadata": {
    "ExecuteTime": {
     "end_time": "2023-02-03T03:15:50.510589Z",
     "start_time": "2023-02-03T03:15:50.173218Z"
    },
    "scrolled": true
   },
   "outputs": [
    {
     "data": {
      "image/png": "[encoded data removed]",
      "text/plain": [
       "<Figure size 1008x432 with 1 Axes>"
      ]
     },
     "metadata": {
      "needs_background": "light"
     },
     "output_type": "display_data"
    }
   ],
   "source": [
    "#creating separate df to look at the # of each category by who wrote it\n",
    "reviews_per_category = df.groupby(['category',\n",
    "                                   'label']).size().reset_index(name='count')\n",
    "plt.figure(figsize=(14,6))\n",
    "chart = sns.barplot(x = 'category', y = 'count', hue='label',\n",
    "            data = reviews_per_category)\n",
    "#add chart title\n",
    "plt.title('Reviews by Category', fontsize=16)\n",
    "\n",
    "#add axis titles\n",
    "plt.xlabel('Categories by origin')\n",
    "plt.ylabel('Number of Reviews')\n",
    "\n",
    "#rotate x-axis labels to make reading easier\n",
    "plt.xticks(rotation=45, ha='right');"
   ]
  },
  {
   "cell_type": "markdown",
   "metadata": {},
   "source": [
    "Looks there is good variety in the categories of reviews. This will hopefully allow the model to be versatile when looking classifying the reviews."
   ]
  },
  {
   "cell_type": "markdown",
   "metadata": {},
   "source": [
    "## Data Cleaning"
   ]
  },
  {
   "cell_type": "code",
   "execution_count": 6,
   "metadata": {
    "ExecuteTime": {
     "end_time": "2023-02-03T03:15:50.577441Z",
     "start_time": "2023-02-03T03:15:50.513590Z"
    }
   },
   "outputs": [
    {
     "data": {
      "text/plain": [
       "(40412, 4)"
      ]
     },
     "execution_count": 6,
     "metadata": {},
     "output_type": "execute_result"
    }
   ],
   "source": [
    "df.drop_duplicates(subset='text_', inplace=True)\n",
    "df = df[df['text_'].notna()]\n",
    "df.shape"
   ]
  },
  {
   "cell_type": "markdown",
   "metadata": {},
   "source": [
    "Removed 20 records that were not useful which is a good start."
   ]
  },
  {
   "cell_type": "code",
   "execution_count": 7,
   "metadata": {
    "ExecuteTime": {
     "end_time": "2023-02-03T03:15:50.874025Z",
     "start_time": "2023-02-03T03:15:50.579443Z"
    }
   },
   "outputs": [],
   "source": [
    "#Normalize text by making all words lowercase\n",
    "df['text_'] = df['text_'].str.lower()\n",
    "\n",
    "#removing all punctuation\n",
    "df['text_'] = df['text_'].str.replace('[^\\w\\s]','')"
   ]
  },
  {
   "cell_type": "code",
   "execution_count": 8,
   "metadata": {
    "ExecuteTime": {
     "end_time": "2023-02-03T03:15:50.888969Z",
     "start_time": "2023-02-03T03:15:50.876028Z"
    }
   },
   "outputs": [
    {
     "data": {
      "text/html": [
       "<div>\n",
       "<style scoped>\n",
       "    .dataframe tbody tr th:only-of-type {\n",
       "        vertical-align: middle;\n",
       "    }\n",
       "\n",
       "    .dataframe tbody tr th {\n",
       "        vertical-align: top;\n",
       "    }\n",
       "\n",
       "    .dataframe thead th {\n",
       "        text-align: right;\n",
       "    }\n",
       "</style>\n",
       "<table border=\"1\" class=\"dataframe\">\n",
       "  <thead>\n",
       "    <tr style=\"text-align: right;\">\n",
       "      <th></th>\n",
       "      <th>category</th>\n",
       "      <th>rating</th>\n",
       "      <th>label</th>\n",
       "      <th>text_</th>\n",
       "    </tr>\n",
       "  </thead>\n",
       "  <tbody>\n",
       "    <tr>\n",
       "      <th>0</th>\n",
       "      <td>Home_and_Kitchen_5</td>\n",
       "      <td>5</td>\n",
       "      <td>CG</td>\n",
       "      <td>love this  well made sturdy and very comfortab...</td>\n",
       "    </tr>\n",
       "    <tr>\n",
       "      <th>1</th>\n",
       "      <td>Home_and_Kitchen_5</td>\n",
       "      <td>5</td>\n",
       "      <td>CG</td>\n",
       "      <td>love it a great upgrade from the original  ive...</td>\n",
       "    </tr>\n",
       "    <tr>\n",
       "      <th>2</th>\n",
       "      <td>Home_and_Kitchen_5</td>\n",
       "      <td>5</td>\n",
       "      <td>CG</td>\n",
       "      <td>this pillow saved my back i love the look and ...</td>\n",
       "    </tr>\n",
       "    <tr>\n",
       "      <th>3</th>\n",
       "      <td>Home_and_Kitchen_5</td>\n",
       "      <td>1</td>\n",
       "      <td>CG</td>\n",
       "      <td>missing information on how to use it but it is...</td>\n",
       "    </tr>\n",
       "    <tr>\n",
       "      <th>4</th>\n",
       "      <td>Home_and_Kitchen_5</td>\n",
       "      <td>5</td>\n",
       "      <td>CG</td>\n",
       "      <td>very nice set good quality we have had the set...</td>\n",
       "    </tr>\n",
       "  </tbody>\n",
       "</table>\n",
       "</div>"
      ],
      "text/plain": [
       "             category  rating label  \\\n",
       "0  Home_and_Kitchen_5       5    CG   \n",
       "1  Home_and_Kitchen_5       5    CG   \n",
       "2  Home_and_Kitchen_5       5    CG   \n",
       "3  Home_and_Kitchen_5       1    CG   \n",
       "4  Home_and_Kitchen_5       5    CG   \n",
       "\n",
       "                                               text_  \n",
       "0  love this  well made sturdy and very comfortab...  \n",
       "1  love it a great upgrade from the original  ive...  \n",
       "2  this pillow saved my back i love the look and ...  \n",
       "3  missing information on how to use it but it is...  \n",
       "4  very nice set good quality we have had the set...  "
      ]
     },
     "execution_count": 8,
     "metadata": {},
     "output_type": "execute_result"
    }
   ],
   "source": [
    "df.head()"
   ]
  },
  {
   "cell_type": "markdown",
   "metadata": {},
   "source": [
    "More attributes can be added now that there is easy to work with text. First let's look at the amount of words in each review."
   ]
  },
  {
   "cell_type": "code",
   "execution_count": 9,
   "metadata": {
    "ExecuteTime": {
     "end_time": "2023-02-03T03:15:51.063400Z",
     "start_time": "2023-02-03T03:15:50.890905Z"
    }
   },
   "outputs": [
    {
     "data": {
      "text/html": [
       "<div>\n",
       "<style scoped>\n",
       "    .dataframe tbody tr th:only-of-type {\n",
       "        vertical-align: middle;\n",
       "    }\n",
       "\n",
       "    .dataframe tbody tr th {\n",
       "        vertical-align: top;\n",
       "    }\n",
       "\n",
       "    .dataframe thead th {\n",
       "        text-align: right;\n",
       "    }\n",
       "</style>\n",
       "<table border=\"1\" class=\"dataframe\">\n",
       "  <thead>\n",
       "    <tr style=\"text-align: right;\">\n",
       "      <th></th>\n",
       "      <th>rating</th>\n",
       "      <th>totalwords</th>\n",
       "    </tr>\n",
       "  </thead>\n",
       "  <tbody>\n",
       "    <tr>\n",
       "      <th>count</th>\n",
       "      <td>40412.000000</td>\n",
       "      <td>40412.000000</td>\n",
       "    </tr>\n",
       "    <tr>\n",
       "      <th>mean</th>\n",
       "      <td>4.256409</td>\n",
       "      <td>67.342027</td>\n",
       "    </tr>\n",
       "    <tr>\n",
       "      <th>std</th>\n",
       "      <td>1.144538</td>\n",
       "      <td>69.426342</td>\n",
       "    </tr>\n",
       "    <tr>\n",
       "      <th>min</th>\n",
       "      <td>1.000000</td>\n",
       "      <td>0.000000</td>\n",
       "    </tr>\n",
       "    <tr>\n",
       "      <th>25%</th>\n",
       "      <td>4.000000</td>\n",
       "      <td>21.000000</td>\n",
       "    </tr>\n",
       "    <tr>\n",
       "      <th>50%</th>\n",
       "      <td>5.000000</td>\n",
       "      <td>39.000000</td>\n",
       "    </tr>\n",
       "    <tr>\n",
       "      <th>75%</th>\n",
       "      <td>5.000000</td>\n",
       "      <td>85.000000</td>\n",
       "    </tr>\n",
       "    <tr>\n",
       "      <th>max</th>\n",
       "      <td>5.000000</td>\n",
       "      <td>373.000000</td>\n",
       "    </tr>\n",
       "  </tbody>\n",
       "</table>\n",
       "</div>"
      ],
      "text/plain": [
       "             rating    totalwords\n",
       "count  40412.000000  40412.000000\n",
       "mean       4.256409     67.342027\n",
       "std        1.144538     69.426342\n",
       "min        1.000000      0.000000\n",
       "25%        4.000000     21.000000\n",
       "50%        5.000000     39.000000\n",
       "75%        5.000000     85.000000\n",
       "max        5.000000    373.000000"
      ]
     },
     "execution_count": 9,
     "metadata": {},
     "output_type": "execute_result"
    }
   ],
   "source": [
    "#loops over every review and counts the # of words using blank space as delimiter\n",
    "df['totalwords'] = [len(x.split()) for x in df['text_'].tolist()]\n",
    "df.describe()"
   ]
  },
  {
   "cell_type": "code",
   "execution_count": 10,
   "metadata": {
    "ExecuteTime": {
     "end_time": "2023-02-03T03:19:47.511539Z",
     "start_time": "2023-02-03T03:15:51.064424Z"
    }
   },
   "outputs": [],
   "source": [
    "#adding sentiment analyzer and using compound score\n",
    "df['sentiment'] = df['text_'].apply(\n",
    "    lambda x: SentimentIntensityAnalyzer().polarity_scores(x)['compound'])\n"
   ]
  },
  {
   "cell_type": "code",
   "execution_count": 11,
   "metadata": {
    "ExecuteTime": {
     "end_time": "2023-02-03T03:19:47.527022Z",
     "start_time": "2023-02-03T03:19:47.513567Z"
    }
   },
   "outputs": [
    {
     "data": {
      "text/html": [
       "<div>\n",
       "<style scoped>\n",
       "    .dataframe tbody tr th:only-of-type {\n",
       "        vertical-align: middle;\n",
       "    }\n",
       "\n",
       "    .dataframe tbody tr th {\n",
       "        vertical-align: top;\n",
       "    }\n",
       "\n",
       "    .dataframe thead th {\n",
       "        text-align: right;\n",
       "    }\n",
       "</style>\n",
       "<table border=\"1\" class=\"dataframe\">\n",
       "  <thead>\n",
       "    <tr style=\"text-align: right;\">\n",
       "      <th></th>\n",
       "      <th>category</th>\n",
       "      <th>rating</th>\n",
       "      <th>label</th>\n",
       "      <th>text_</th>\n",
       "      <th>totalwords</th>\n",
       "      <th>sentiment</th>\n",
       "    </tr>\n",
       "  </thead>\n",
       "  <tbody>\n",
       "    <tr>\n",
       "      <th>0</th>\n",
       "      <td>Home_and_Kitchen_5</td>\n",
       "      <td>5</td>\n",
       "      <td>CG</td>\n",
       "      <td>love this  well made sturdy and very comfortab...</td>\n",
       "      <td>12</td>\n",
       "      <td>0.9538</td>\n",
       "    </tr>\n",
       "    <tr>\n",
       "      <th>1</th>\n",
       "      <td>Home_and_Kitchen_5</td>\n",
       "      <td>5</td>\n",
       "      <td>CG</td>\n",
       "      <td>love it a great upgrade from the original  ive...</td>\n",
       "      <td>16</td>\n",
       "      <td>0.8910</td>\n",
       "    </tr>\n",
       "    <tr>\n",
       "      <th>2</th>\n",
       "      <td>Home_and_Kitchen_5</td>\n",
       "      <td>5</td>\n",
       "      <td>CG</td>\n",
       "      <td>this pillow saved my back i love the look and ...</td>\n",
       "      <td>14</td>\n",
       "      <td>0.7906</td>\n",
       "    </tr>\n",
       "    <tr>\n",
       "      <th>3</th>\n",
       "      <td>Home_and_Kitchen_5</td>\n",
       "      <td>1</td>\n",
       "      <td>CG</td>\n",
       "      <td>missing information on how to use it but it is...</td>\n",
       "      <td>17</td>\n",
       "      <td>0.7227</td>\n",
       "    </tr>\n",
       "    <tr>\n",
       "      <th>4</th>\n",
       "      <td>Home_and_Kitchen_5</td>\n",
       "      <td>5</td>\n",
       "      <td>CG</td>\n",
       "      <td>very nice set good quality we have had the set...</td>\n",
       "      <td>18</td>\n",
       "      <td>0.7397</td>\n",
       "    </tr>\n",
       "  </tbody>\n",
       "</table>\n",
       "</div>"
      ],
      "text/plain": [
       "             category  rating label  \\\n",
       "0  Home_and_Kitchen_5       5    CG   \n",
       "1  Home_and_Kitchen_5       5    CG   \n",
       "2  Home_and_Kitchen_5       5    CG   \n",
       "3  Home_and_Kitchen_5       1    CG   \n",
       "4  Home_and_Kitchen_5       5    CG   \n",
       "\n",
       "                                               text_  totalwords  sentiment  \n",
       "0  love this  well made sturdy and very comfortab...          12     0.9538  \n",
       "1  love it a great upgrade from the original  ive...          16     0.8910  \n",
       "2  this pillow saved my back i love the look and ...          14     0.7906  \n",
       "3  missing information on how to use it but it is...          17     0.7227  \n",
       "4  very nice set good quality we have had the set...          18     0.7397  "
      ]
     },
     "execution_count": 11,
     "metadata": {},
     "output_type": "execute_result"
    }
   ],
   "source": [
    "df.head()"
   ]
  },
  {
   "cell_type": "markdown",
   "metadata": {},
   "source": [
    "The nltk sentiment intensity analyzer uses the vader lexicon to create an overall score of how positive or negative the review is on a scale from -1 to 1. -1 being a review that is extremely negative, 0 being a completely neutral review, and 1 being extremely positive. As we can see from the code preview, review 3 has a review rating of 1 for the product, yet the sentiment seems to be overall very positive (0.72). This could be something indicative of a bot review; when a review rating and body have a disconnect. "
   ]
  },
  {
   "cell_type": "markdown",
   "metadata": {},
   "source": [
    "To simply the process of removing stop words and lemmatizing a function will be created to do it one step."
   ]
  },
  {
   "cell_type": "code",
   "execution_count": 12,
   "metadata": {
    "ExecuteTime": {
     "end_time": "2023-02-03T03:19:47.574757Z",
     "start_time": "2023-02-03T03:19:47.529284Z"
    }
   },
   "outputs": [],
   "source": [
    "#removing stop words from tokenized reviews and then lemmatizing \n",
    "\n",
    "#initialize lemmatizer\n",
    "lemmatizer = WordNetLemmatizer()\n",
    "\n",
    "#creating function to remove stop words and then lemmatize\n",
    "def clean_review(review):\n",
    "    words = word_tokenize(review)\n",
    "    no_stop_words = [w for w in words if not w in stop_words]\n",
    "    lemmatized_review = [lemmatizer.lemmatize(word) for word in no_stop_words]\n",
    "    return ' '.join(lemmatized_review)"
   ]
  },
  {
   "cell_type": "markdown",
   "metadata": {},
   "source": [
    "Storing the clean reviews in a separate column to be used for the models without removing the originals for future reference."
   ]
  },
  {
   "cell_type": "code",
   "execution_count": 13,
   "metadata": {
    "ExecuteTime": {
     "end_time": "2023-02-03T03:20:01.323072Z",
     "start_time": "2023-02-03T03:19:47.576757Z"
    }
   },
   "outputs": [],
   "source": [
    "#applying the cleaning method to the reviews and storing in the process review column\n",
    "df['processed_review'] = df['text_'].apply(clean_review)"
   ]
  },
  {
   "cell_type": "code",
   "execution_count": 14,
   "metadata": {
    "ExecuteTime": {
     "end_time": "2023-02-03T03:20:01.337979Z",
     "start_time": "2023-02-03T03:20:01.325101Z"
    }
   },
   "outputs": [
    {
     "name": "stdout",
     "output_type": "stream",
     "text": [
      "love it a great upgrade from the original  ive had mine for a couple of years\n",
      "love great upgrade original ive mine couple year\n"
     ]
    }
   ],
   "source": [
    "print(df['text_'][1])\n",
    "print(df['processed_review'][1])"
   ]
  },
  {
   "cell_type": "markdown",
   "metadata": {},
   "source": [
    "Looks like the reviews have been successfully trimmed of all stop words and lemmatized. Now we can finally use tf-idf"
   ]
  },
  {
   "cell_type": "code",
   "execution_count": 15,
   "metadata": {
    "ExecuteTime": {
     "end_time": "2023-02-03T03:20:02.320611Z",
     "start_time": "2023-02-03T03:20:01.338979Z"
    }
   },
   "outputs": [],
   "source": [
    "#instantiate the tfidf \n",
    "tfidf = TfidfVectorizer() \n",
    "\n",
    "#using the lemmatized and cleaned review for tfidf\n",
    "X_tfidf = tfidf.fit_transform(df['processed_review'])"
   ]
  },
  {
   "cell_type": "markdown",
   "metadata": {},
   "source": [
    "Now that we have the TF-IDF Vectorization done, we are going to bring together TF-IDF and sentiment to be the feature that is trained, using hstack. hstack essentially concatenates two arrays. This will allow both to be used as a single feature for the model. The code below is a variation of [this](https://stackoverflow.com/questions/26856095/merge-numeric-and-text-features-for-category-classification)."
   ]
  },
  {
   "cell_type": "code",
   "execution_count": 16,
   "metadata": {
    "ExecuteTime": {
     "end_time": "2023-02-03T03:20:02.352321Z",
     "start_time": "2023-02-03T03:20:02.322612Z"
    }
   },
   "outputs": [],
   "source": [
    "#import numpy \n",
    "import numpy as np\n",
    "\n",
    "#need to create variable to store sentiment and reshape the sentiment column\n",
    "#to have matching dimensions with the tf-idf column\n",
    "X_sentiment = np.array(df['sentiment']).reshape(-1,1)\n",
    "\n",
    "#concat the features with hstack into a new array X\n",
    "X = hstack((X_tfidf, X_sentiment))"
   ]
  },
  {
   "cell_type": "markdown",
   "metadata": {},
   "source": [
    "## Creating Base Model"
   ]
  },
  {
   "cell_type": "markdown",
   "metadata": {},
   "source": [
    "The base model used will be a logistic regression. This is because logistic regression are a simple yet reliable method for classification problems. "
   ]
  },
  {
   "cell_type": "code",
   "execution_count": 17,
   "metadata": {
    "ExecuteTime": {
     "end_time": "2023-02-03T03:20:03.396667Z",
     "start_time": "2023-02-03T03:20:02.354323Z"
    }
   },
   "outputs": [
    {
     "data": {
      "text/plain": [
       "LogisticRegression(max_iter=1000)"
      ]
     },
     "execution_count": 17,
     "metadata": {},
     "output_type": "execute_result"
    }
   ],
   "source": [
    "#need to encode the labels CG and OR to 0 and 1, respectively, for later tests\n",
    "le = LabelEncoder()\n",
    "y = le.fit_transform(df['label'])\n",
    "\n",
    "#split data into training and testing sets\n",
    "X_train, X_test, y_train, y_test = train_test_split(X, y, test_size=0.2,\n",
    "                                                    random_state=7)\n",
    "\n",
    "#Creating regression model with max iter at 1000 to prevent errors\n",
    "clf = LogisticRegression(max_iter=1000)\n",
    "clf.fit(X_train, y_train)"
   ]
  },
  {
   "cell_type": "code",
   "execution_count": 18,
   "metadata": {
    "ExecuteTime": {
     "end_time": "2023-02-03T03:20:03.412670Z",
     "start_time": "2023-02-03T03:20:03.398667Z"
    }
   },
   "outputs": [],
   "source": [
    "#lets try to test the data now that the model has been trained\n",
    "y_pred = clf.predict(X_test)"
   ]
  },
  {
   "cell_type": "markdown",
   "metadata": {},
   "source": [
    "Time to look at the models performance. We'll be looking at the accuracy, precision, Recall, and F1 Score"
   ]
  },
  {
   "cell_type": "code",
   "execution_count": 19,
   "metadata": {
    "ExecuteTime": {
     "end_time": "2023-02-03T03:20:03.630113Z",
     "start_time": "2023-02-03T03:20:03.414769Z"
    }
   },
   "outputs": [
    {
     "name": "stdout",
     "output_type": "stream",
     "text": [
      "Accuracy 0.8728194977112458\n",
      "Precision 0.8879689521345407\n",
      "Recall 0.8522473305189968\n",
      "F1 Score 0.8697415103902686\n"
     ]
    },
    {
     "data": {
      "image/png": "[encoded data removed]",
      "text/plain": [
       "<Figure size 432x288 with 2 Axes>"
      ]
     },
     "metadata": {
      "needs_background": "light"
     },
     "output_type": "display_data"
    }
   ],
   "source": [
    "#import the necessary libraries for displaying model metrics\n",
    "from sklearn import metrics\n",
    "from sklearn.metrics import accuracy_score, precision_score, recall_score, f1_score\n",
    "\n",
    "#setting the positive label as 0 which is CG/computer generated \n",
    "print(\"Accuracy\", accuracy_score(y_test,y_pred))\n",
    "print(\"Precision\", precision_score(y_test,y_pred, pos_label = 0))\n",
    "print(\"Recall\", recall_score(y_test,y_pred, pos_label = 0))\n",
    "print(\"F1 Score\", f1_score(y_test,y_pred, pos_label = 0))\n",
    "\n",
    "#confusion matrix to help better visualize results\n",
    "confusion_matrix = metrics.confusion_matrix(y_test, y_pred)\n",
    "matrix_chart = metrics.ConfusionMatrixDisplay(\n",
    "    confusion_matrix = confusion_matrix, display_labels = ['Bot', 'Human'])\n",
    "matrix_chart.plot()\n",
    "plt.show()"
   ]
  },
  {
   "cell_type": "markdown",
   "metadata": {},
   "source": [
    "For a base mode the results seem promising. Now it's time to improve on the model by using a slightly more sophisticated model, random forest"
   ]
  },
  {
   "cell_type": "markdown",
   "metadata": {},
   "source": [
    "## Improving model using Random Forest Model "
   ]
  },
  {
   "cell_type": "code",
   "execution_count": 20,
   "metadata": {
    "ExecuteTime": {
     "end_time": "2023-02-03T03:21:44.467835Z",
     "start_time": "2023-02-03T03:20:03.631114Z"
    }
   },
   "outputs": [],
   "source": [
    "#import for randomforest and pipeline\n",
    "from sklearn.ensemble import RandomForestClassifier\n",
    "from sklearn.pipeline import Pipeline\n",
    "\n",
    "#create pipeline\n",
    "rf_pipeline = Pipeline([('classifier', RandomForestClassifier(\n",
    "    class_weight = 'balanced'))])\n",
    "\n",
    "#fitting the model on training data\n",
    "rf_pipeline.fit(X_train, y_train)\n",
    "\n",
    "#making predictions on testing data\n",
    "y_pred = rf_pipeline.predict(X_test)"
   ]
  },
  {
   "cell_type": "markdown",
   "metadata": {},
   "source": [
    "Time to see the results of the this model and see if fine tuning is necessary "
   ]
  },
  {
   "cell_type": "code",
   "execution_count": 21,
   "metadata": {
    "ExecuteTime": {
     "end_time": "2023-02-03T03:21:44.641249Z",
     "start_time": "2023-02-03T03:21:44.469846Z"
    },
    "scrolled": true
   },
   "outputs": [
    {
     "name": "stdout",
     "output_type": "stream",
     "text": [
      "Accuracy 0.8566126438203637\n",
      "Precision 0.83646175504458\n",
      "Recall 0.8852743978147505\n",
      "F1 Score 0.8601761370491012\n"
     ]
    },
    {
     "data": {
      "image/png": "[encoded data removed]",
      "text/plain": [
       "<Figure size 432x288 with 2 Axes>"
      ]
     },
     "metadata": {
      "needs_background": "light"
     },
     "output_type": "display_data"
    }
   ],
   "source": [
    "#print metrics\n",
    "print(\"Accuracy\", accuracy_score(y_test,y_pred))\n",
    "print(\"Precision\", precision_score(y_test,y_pred, pos_label = 0))\n",
    "print(\"Recall\", recall_score(y_test,y_pred, pos_label = 0))\n",
    "print(\"F1 Score\", f1_score(y_test,y_pred, pos_label = 0))\n",
    "\n",
    "#confusion matrix to help better visualize results\n",
    "confusion_matrix = metrics.confusion_matrix(y_test, y_pred)\n",
    "matrix_chart = metrics.ConfusionMatrixDisplay(\n",
    "    confusion_matrix = confusion_matrix, display_labels = ['Bot', 'Human'])\n",
    "matrix_chart.plot()\n",
    "plt.show()"
   ]
  },
  {
   "cell_type": "markdown",
   "metadata": {},
   "source": [
    "This model actually performs slightly worse than the logistic regression. More fine-tuning will need to be done."
   ]
  },
  {
   "cell_type": "markdown",
   "metadata": {},
   "source": [
    "## Improving Random Forest model with GridSearchCV"
   ]
  },
  {
   "cell_type": "code",
   "execution_count": 22,
   "metadata": {
    "ExecuteTime": {
     "end_time": "2023-02-03T03:21:44.661287Z",
     "start_time": "2023-02-03T03:21:44.643263Z"
    }
   },
   "outputs": [],
   "source": [
    "#import GridSearch\n",
    "from sklearn.model_selection import GridSearchCV \n",
    "\n",
    "#Create and define parameter gird to search\n",
    "param_grid = { 'n_estimators': [20, 50, 100], \n",
    "              'max_depth': [6,9,12],\n",
    "              'min_samples_leaf': [1,2,4] }"
   ]
  },
  {
   "cell_type": "markdown",
   "metadata": {},
   "source": [
    "The three different hyperparameters used in the grid search are n_estimators or the number of trees, max depth of trees in the forest, and the min number of leafs are the end of a node. "
   ]
  },
  {
   "cell_type": "code",
   "execution_count": 24,
   "metadata": {
    "ExecuteTime": {
     "end_time": "2023-02-03T03:29:00.232237Z",
     "start_time": "2023-02-03T03:24:19.070576Z"
    }
   },
   "outputs": [
    {
     "data": {
      "text/plain": [
       "GridSearchCV(cv=5, estimator=RandomForestClassifier(class_weight='balanced'),\n",
       "             param_grid={'max_depth': [6, 9, 12], 'min_samples_leaf': [1, 2, 4],\n",
       "                         'n_estimators': [20, 50, 100]},\n",
       "             scoring='f1_macro')"
      ]
     },
     "execution_count": 24,
     "metadata": {},
     "output_type": "execute_result"
    }
   ],
   "source": [
    "#initializing the random forest classifier and the grid search\n",
    "rf = RandomForestClassifier(class_weight= 'balanced')\n",
    "grid_rfc = GridSearchCV(rf, param_grid, cv = 5, scoring='f1_macro')\n",
    "\n",
    "#fitting the grid search to the training data\n",
    "grid_rfc.fit(X_train, y_train)"
   ]
  },
  {
   "cell_type": "markdown",
   "metadata": {},
   "source": [
    "In the future less n_estimators should probably be used. This hyperparameter requires a lot of computational resources "
   ]
  },
  {
   "cell_type": "code",
   "execution_count": 25,
   "metadata": {
    "ExecuteTime": {
     "end_time": "2023-02-03T03:35:27.360192Z",
     "start_time": "2023-02-03T03:35:21.233998Z"
    }
   },
   "outputs": [
    {
     "data": {
      "text/plain": [
       "RandomForestClassifier(max_depth=12, min_samples_leaf=2)"
      ]
     },
     "execution_count": 25,
     "metadata": {},
     "output_type": "execute_result"
    }
   ],
   "source": [
    "#get predictions using gridsearch\n",
    "best_params = grid_rfc.best_params_\n",
    "\n",
    "#Intialize new random forest classifier using new params\n",
    "best_rf = RandomForestClassifier(**best_params)\n",
    "\n",
    "#fit the classifier to the data\n",
    "best_rf.fit(X_train, y_train)"
   ]
  },
  {
   "cell_type": "markdown",
   "metadata": {},
   "source": [
    "it looks like gridsearch is showing the model efficacy is not affected by the n_estimators"
   ]
  },
  {
   "cell_type": "code",
   "execution_count": 26,
   "metadata": {
    "ExecuteTime": {
     "end_time": "2023-02-03T03:35:32.813534Z",
     "start_time": "2023-02-03T03:35:32.720375Z"
    }
   },
   "outputs": [],
   "source": [
    "y_preds_grid = best_rf.predict(X_test)"
   ]
  },
  {
   "cell_type": "code",
   "execution_count": 27,
   "metadata": {
    "ExecuteTime": {
     "end_time": "2023-02-03T03:35:34.569650Z",
     "start_time": "2023-02-03T03:35:34.428238Z"
    }
   },
   "outputs": [
    {
     "name": "stdout",
     "output_type": "stream",
     "text": [
      "Accuracy 0.7925275269083261\n",
      "Precision 0.7682648401826484\n",
      "Recall 0.8356096349639931\n",
      "F1 Score 0.8005233733793268\n"
     ]
    },
    {
     "data": {
      "image/png": "[encoded data removed]",
      "text/plain": [
       "<Figure size 432x288 with 2 Axes>"
      ]
     },
     "metadata": {
      "needs_background": "light"
     },
     "output_type": "display_data"
    }
   ],
   "source": [
    "#print metrics\n",
    "print(\"Accuracy\", accuracy_score(y_test,y_preds_grid))\n",
    "print(\"Precision\", precision_score(y_test,y_preds_grid, pos_label = 0))\n",
    "print(\"Recall\", recall_score(y_test,y_preds_grid, pos_label = 0))\n",
    "print(\"F1 Score\", f1_score(y_test,y_preds_grid, pos_label = 0))\n",
    "\n",
    "#confusion matrix to help better visualize results\n",
    "confusion_matrix = metrics.confusion_matrix(y_test, y_preds_grid)\n",
    "matrix_chart = metrics.ConfusionMatrixDisplay(\n",
    "    confusion_matrix = confusion_matrix, display_labels = ['Bot', 'Human'])\n",
    "matrix_chart.plot()\n",
    "plt.show()"
   ]
  },
  {
   "cell_type": "markdown",
   "metadata": {},
   "source": [
    "The model is now performing worse with the tuned hyperparameters. It is seems to now skew further towards choosing the review as bot-written. The hyperparameters may need more tuning, or it is possible that a random forest model is not the best way method of prediction for this specific business case. "
   ]
  },
  {
   "cell_type": "markdown",
   "metadata": {},
   "source": [
    "## Choosing the final model: Logistic Regression"
   ]
  },
  {
   "cell_type": "markdown",
   "metadata": {},
   "source": [
    "    Despite attempting to use a more sophisticated random forest model with fine-tuned hyperparameters, it seems the best model is the logistic regression. It overall had the highest accuracy, precision, and f1-score compared to both iterations of the random forest models. Precision is most likely the most important metric to consider for a case like this. While allowing false reviews to go by undetected is not ideal, flagging a legitimate review as a bot and potentially removing it would be put the online platform into a negative light, defeating the purpose of the model.\n",
    "    \n",
    "    Another thing to note is the simplicity of the model itself. The logistic regression model itself ran in about 1 second compared the random forest pipeline which took much longer to run. In the real world, there will be millions, if not billions, of reviews to process. The more simplistic and efficient the model, the easier it will be to use it on such volumes of data. "
   ]
  }
 ],
 "metadata": {
  "kernelspec": {
   "display_name": "Python 3",
   "language": "python",
   "name": "python3"
  },
  "language_info": {
   "codemirror_mode": {
    "name": "ipython",
    "version": 3
   },
   "file_extension": ".py",
   "mimetype": "text/x-python",
   "name": "python",
   "nbconvert_exporter": "python",
   "pygments_lexer": "ipython3",
   "version": "3.8.5"
  },
  "toc": {
   "base_numbering": 1,
   "nav_menu": {},
   "number_sections": true,
   "sideBar": true,
   "skip_h1_title": false,
   "title_cell": "Table of Contents",
   "title_sidebar": "Contents",
   "toc_cell": false,
   "toc_position": {},
   "toc_section_display": true,
   "toc_window_display": false
  },
  "varInspector": {
   "cols": {
    "lenName": 16,
    "lenType": 16,
    "lenVar": 40
   },
   "kernels_config": {
    "python": {
     "delete_cmd_postfix": "",
     "delete_cmd_prefix": "del ",
     "library": "var_list.py",
     "varRefreshCmd": "print(var_dic_list())"
    },
    "r": {
     "delete_cmd_postfix": ") ",
     "delete_cmd_prefix": "rm(",
     "library": "var_list.r",
     "varRefreshCmd": "cat(var_dic_list()) "
    }
   },
   "types_to_exclude": [
    "module",
    "function",
    "builtin_function_or_method",
    "instance",
    "_Feature"
   ],
   "window_display": false
  }
 },
 "nbformat": 4,
 "nbformat_minor": 4
}
